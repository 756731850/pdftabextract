{
 "cells": [
  {
   "cell_type": "code",
   "execution_count": 1,
   "metadata": {
    "collapsed": true
   },
   "outputs": [],
   "source": [
    "import cv2\n",
    "import numpy as np"
   ]
  },
  {
   "cell_type": "code",
   "execution_count": 2,
   "metadata": {
    "collapsed": false
   },
   "outputs": [
    {
     "data": {
      "text/plain": [
       "(3505, 2480)"
      ]
     },
     "execution_count": 2,
     "metadata": {},
     "output_type": "execute_result"
    }
   ],
   "source": [
    "INPUT_FILE = 'ALA1934_RR.pdf-5_1.png'\n",
    "INPUT_FILE_BASE = INPUT_FILE[:INPUT_FILE.rindex('.')]\n",
    "\n",
    "img = cv2.imread(INPUT_FILE)\n",
    "img_w, img_h = img.shape[:2]\n",
    "img_w, img_h"
   ]
  },
  {
   "cell_type": "code",
   "execution_count": 3,
   "metadata": {
    "collapsed": false
   },
   "outputs": [
    {
     "data": {
      "text/plain": [
       "True"
      ]
     },
     "execution_count": 3,
     "metadata": {},
     "output_type": "execute_result"
    }
   ],
   "source": [
    "gray = cv2.cvtColor(img, cv2.COLOR_BGR2GRAY)\n",
    "edges = cv2.Canny(gray, 50, 150, apertureSize=3)\n",
    "cv2.imwrite(INPUT_FILE_BASE + '-edges.png', edges)"
   ]
  },
  {
   "cell_type": "code",
   "execution_count": 4,
   "metadata": {
    "collapsed": true
   },
   "outputs": [],
   "source": [
    "#![edges](ALA1934_RR.pdf-3_1-edges.png)"
   ]
  },
  {
   "cell_type": "code",
   "execution_count": 4,
   "metadata": {
    "collapsed": false
   },
   "outputs": [
    {
     "name": "stdout",
     "output_type": "stream",
     "text": [
      "votes_thresh 701\n",
      "len(lines) 42\n"
     ]
    },
    {
     "data": {
      "text/plain": [
       "True"
      ]
     },
     "execution_count": 4,
     "metadata": {},
     "output_type": "execute_result"
    }
   ],
   "source": [
    "lines_only = np.zeros((img_w, img_h, 1), np.uint8)\n",
    "\n",
    "max_img_dim = max(img_w, img_h)\n",
    "# min_line_len = max_img_dim / 50\n",
    "# max_line_gap = max_img_dim / 200\n",
    "\n",
    "# print('min_line_len', min_line_len)\n",
    "# print('max_line_gap', max_line_gap)\n",
    "\n",
    "res_rho = 1\n",
    "res_theta = np.pi / 500\n",
    "votes_thresh = round(img_w / 5)\n",
    "print('votes_thresh', votes_thresh)\n",
    "lines = cv2.HoughLines(edges, res_rho, res_theta, votes_thresh)\n",
    "\n",
    "print('len(lines)', len(lines))\n",
    "\n",
    "for l in lines:\n",
    "    rho, theta = l[0]\n",
    "    a = np.cos(theta)\n",
    "    b = np.sin(theta)\n",
    "    x0 = a * rho\n",
    "    y0 = b * rho\n",
    "    x1 = int(x0 + max_img_dim*(-b))\n",
    "    y1 = int(y0 + max_img_dim*(a))\n",
    "    x2 = int(x0 - max_img_dim*(-b))\n",
    "    y2 = int(y0 - max_img_dim*(a))\n",
    "    \n",
    "    cv2.line(lines_only, (x1, y1), (x2, y2), 255, 1)\n",
    "    cv2.line(img, (x1, y1), (x2, y2), (0,255,0), 1)\n",
    "\n",
    "cv2.imwrite(INPUT_FILE_BASE + '-linesonly.png', lines_only)\n",
    "cv2.imwrite(INPUT_FILE_BASE + '-hough.png', img)"
   ]
  },
  {
   "cell_type": "code",
   "execution_count": 6,
   "metadata": {
    "collapsed": true
   },
   "outputs": [],
   "source": [
    "### Lines\n",
    "#![lines](ALA1934_RR.pdf-3_1-linesonly.png)\n",
    "\n",
    "### Lines on orig. Image\n",
    "#![hough](ALA1934_RR.pdf-3_1-hough.png)"
   ]
  },
  {
   "cell_type": "code",
   "execution_count": 5,
   "metadata": {
    "collapsed": false
   },
   "outputs": [
    {
     "data": {
      "text/plain": [
       "(-0.7199950566895569, 0.0)"
      ]
     },
     "execution_count": 5,
     "metadata": {},
     "output_type": "execute_result"
    }
   ],
   "source": [
    "from math import degrees, radians\n",
    "\n",
    "from pdftabextract.geom import pt, vecangle\n",
    "\n",
    "UNITY_VECS = (\n",
    "    pt(0, 1),   # up\n",
    "    pt(1, 0),   # right\n",
    "    pt(0, -1),  # down\n",
    "    pt(-1, 0)   # left\n",
    ")\n",
    "\n",
    "\n",
    "# find rotation / skew\n",
    "pihlf = np.pi / 2\n",
    "pi4th = np.pi / 4\n",
    "\n",
    "# lines = (\n",
    "#     ((1, pihlf), ),  # up\n",
    "#     ((1, 0), ),          # right\n",
    "#     ((1, np.pi + pihlf), ),  # down\n",
    "#     ((1, np.pi), ),          # left\n",
    "#     ((1, -pihlf), ),  # down\n",
    "#     ((1, -0), ),          # right\n",
    "#     ((1, -(np.pi + pihlf)), ),  # up\n",
    "#     ((1, -np.pi), ),          # right\n",
    "#     ((1, pihlf + 0.1), ),  # up\n",
    "#     ((1, 0.1), ),          # right\n",
    "#     ((1, np.pi + pihlf + 0.1), ),  # down\n",
    "#     ((1, np.pi + 0.1), ),          # left\n",
    "#     ((1, pihlf - 0.1), ),  # up\n",
    "#     ((1, -0.1), ),          # right\n",
    "#     ((1, np.pi + pihlf - 0.1), ),  # down\n",
    "#     ((1, np.pi - 0.1), ),          # left\n",
    "#     ((1, -(pihlf + 0.1)), ),  # down\n",
    "#     ((1, -0.1), ),          # right\n",
    "#     ((1, -(np.pi + pihlf + 0.1)), ),  # up\n",
    "#     ((1, -(np.pi + 0.1)), ),          # left\n",
    "# )\n",
    "\n",
    "hori_deviations = []\n",
    "vert_deviations = []\n",
    "\n",
    "for l in lines:\n",
    "    _, theta = l[0]\n",
    "    \n",
    "    if theta >= np.pi:\n",
    "        theta_norm = theta - np.pi\n",
    "    elif theta < -np.pi:\n",
    "        theta_norm = theta + 2 * np.pi\n",
    "    elif theta < 0:\n",
    "        theta_norm = theta + np.pi\n",
    "    else:\n",
    "        theta_norm = theta\n",
    "    \n",
    "    assert 0 <= theta_norm < np.pi\n",
    "    \n",
    "    hori_deviation = pihlf - theta_norm\n",
    "    #print(degrees(vert_deviation))\n",
    "        \n",
    "    if abs(hori_deviation) > pi4th:  # vertical\n",
    "        deviation = hori_deviation - pihlf\n",
    "        if deviation < -pihlf:\n",
    "            deviation += np.pi\n",
    "        vert_deviations.append(-deviation)\n",
    "    else:\n",
    "        hori_deviations.append(-hori_deviation)\n",
    "        \n",
    "    #assert -pi4th <= deviation <= pi4th\n",
    "\n",
    "if hori_deviations:\n",
    "    median_hori_dev = np.median(hori_deviations)\n",
    "else:\n",
    "    print('warning: no horizontal lines found!')\n",
    "    median_hori_dev = 0\n",
    "\n",
    "if vert_deviations:\n",
    "    median_vert_dev = np.median(vert_deviations)\n",
    "else:\n",
    "    median_vert_dev = 0\n",
    "    print('warning: no vertical lines found!')\n",
    "\n",
    "degrees(median_hori_dev), degrees(median_vert_dev)"
   ]
  },
  {
   "cell_type": "code",
   "execution_count": 9,
   "metadata": {
    "collapsed": false
   },
   "outputs": [
    {
     "data": {
      "text/plain": [
       "(None, None, -0.012566284337315992)"
      ]
     },
     "execution_count": 9,
     "metadata": {},
     "output_type": "execute_result"
    }
   ],
   "source": [
    "ROT_THRESH = radians(0.5)\n",
    "ROT_SAME_DIR_THRESH = radians(1)\n",
    "\n",
    "hori_rot_above_tresh = abs(median_hori_dev) > ROT_THRESH\n",
    "vert_rot_above_tresh = abs(median_vert_dev) > ROT_THRESH\n",
    "\n",
    "rotation = None\n",
    "vert_skew = None\n",
    "hori_skew = None\n",
    "if hori_rot_above_tresh and vert_rot_above_tresh:\n",
    "    if abs(median_hori_dev - median_vert_dev) < ROT_SAME_DIR_THRESH:\n",
    "        rotation = (median_hori_dev + median_vert_dev) / 2\n",
    "    else:\n",
    "        print('warning: horizontal / vertical rotation not in same direction (%f / %f)'\n",
    "              % (degrees(median_hori_dev, median_vert_dev)))\n",
    "elif hori_rot_above_tresh:\n",
    "    hori_skew = median_hori_dev\n",
    "elif vert_rot_above_tresh:\n",
    "    vert_skew = median_vert_dev\n",
    "#else:  # no rotation / skew\n",
    "\n",
    "rotation, vert_skew, hori_skew"
   ]
  },
  {
   "cell_type": "code",
   "execution_count": null,
   "metadata": {
    "collapsed": true
   },
   "outputs": [],
   "source": []
  }
 ],
 "metadata": {
  "kernelspec": {
   "display_name": "Python 3",
   "language": "python",
   "name": "python3"
  },
  "language_info": {
   "codemirror_mode": {
    "name": "ipython",
    "version": 3
   },
   "file_extension": ".py",
   "mimetype": "text/x-python",
   "name": "python",
   "nbconvert_exporter": "python",
   "pygments_lexer": "ipython3",
   "version": "3.5.2"
  }
 },
 "nbformat": 4,
 "nbformat_minor": 2
}
