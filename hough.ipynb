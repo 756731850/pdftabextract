{
 "cells": [
  {
   "cell_type": "code",
   "execution_count": 91,
   "metadata": {
    "collapsed": true
   },
   "outputs": [],
   "source": [
    "import cv2\n",
    "import numpy as np"
   ]
  },
  {
   "cell_type": "code",
   "execution_count": 110,
   "metadata": {
    "collapsed": false
   },
   "outputs": [
    {
     "data": {
      "text/plain": [
       "(3505, 2480)"
      ]
     },
     "execution_count": 110,
     "metadata": {},
     "output_type": "execute_result"
    }
   ],
   "source": [
    "INPUT_FILE = 'ALA1934_RR.pdf-5_1.png'\n",
    "INPUT_FILE_BASE = INPUT_FILE[:INPUT_FILE.rindex('.')]\n",
    "\n",
    "img = cv2.imread(INPUT_FILE)\n",
    "img_w, img_h = img.shape[:2]\n",
    "img_w, img_h"
   ]
  },
  {
   "cell_type": "code",
   "execution_count": 111,
   "metadata": {
    "collapsed": false
   },
   "outputs": [
    {
     "data": {
      "text/plain": [
       "True"
      ]
     },
     "execution_count": 111,
     "metadata": {},
     "output_type": "execute_result"
    }
   ],
   "source": [
    "gray = cv2.cvtColor(img, cv2.COLOR_BGR2GRAY)\n",
    "edges = cv2.Canny(gray, 50, 150, apertureSize=3)\n",
    "cv2.imwrite(INPUT_FILE_BASE + '-edges.png', edges)"
   ]
  },
  {
   "cell_type": "code",
   "execution_count": null,
   "metadata": {
    "collapsed": true
   },
   "outputs": [],
   "source": [
    "#![edges](ALA1934_RR.pdf-3_1-edges.png)"
   ]
  },
  {
   "cell_type": "code",
   "execution_count": 112,
   "metadata": {
    "collapsed": false
   },
   "outputs": [
    {
     "name": "stdout",
     "output_type": "stream",
     "text": [
      "votes_thresh 701\n",
      "len(lines) 42\n"
     ]
    },
    {
     "data": {
      "text/plain": [
       "True"
      ]
     },
     "execution_count": 112,
     "metadata": {},
     "output_type": "execute_result"
    }
   ],
   "source": [
    "lines_only = np.zeros((img_w, img_h, 1), np.uint8)\n",
    "\n",
    "max_img_dim = max(img_w, img_h)\n",
    "# min_line_len = max_img_dim / 50\n",
    "# max_line_gap = max_img_dim / 200\n",
    "\n",
    "# print('min_line_len', min_line_len)\n",
    "# print('max_line_gap', max_line_gap)\n",
    "\n",
    "res_rho = 1\n",
    "res_theta = np.pi / 500\n",
    "votes_thresh = round(img_w / 5)\n",
    "print('votes_thresh', votes_thresh)\n",
    "lines = cv2.HoughLines(edges, res_rho, res_theta, votes_thresh)\n",
    "\n",
    "print('len(lines)', len(lines))\n",
    "\n",
    "for l in lines:\n",
    "    rho, theta = l[0]\n",
    "    a = np.cos(theta)\n",
    "    b = np.sin(theta)\n",
    "    x0 = a * rho\n",
    "    y0 = b * rho\n",
    "    x1 = int(x0 + max_img_dim*(-b))\n",
    "    y1 = int(y0 + max_img_dim*(a))\n",
    "    x2 = int(x0 - max_img_dim*(-b))\n",
    "    y2 = int(y0 - max_img_dim*(a))\n",
    "    \n",
    "    cv2.line(lines_only, (x1, y1), (x2, y2), 255, 1)\n",
    "    cv2.line(img, (x1, y1), (x2, y2), (0,255,0), 1)\n",
    "\n",
    "cv2.imwrite(INPUT_FILE_BASE + '-linesonly.png', lines_only)\n",
    "cv2.imwrite(INPUT_FILE_BASE + '-hough.png', img)"
   ]
  },
  {
   "cell_type": "code",
   "execution_count": 20,
   "metadata": {
    "collapsed": true
   },
   "outputs": [],
   "source": [
    "### Lines\n",
    "#![lines](ALA1934_RR.pdf-3_1-linesonly.png)\n",
    "\n",
    "### Lines on orig. Image\n",
    "#![hough](ALA1934_RR.pdf-3_1-hough.png)"
   ]
  },
  {
   "cell_type": "code",
   "execution_count": 162,
   "metadata": {
    "collapsed": false
   },
   "outputs": [
    {
     "name": "stdout",
     "output_type": "stream",
     "text": [
      "0.0\n",
      "v 90.0 90.0 0.0\n",
      "\n",
      "90.0\n",
      "h 0.0 0.0 0.0\n",
      "\n",
      "0.0\n",
      "v 270.0 90.0 0.0\n",
      "\n",
      "90.0\n",
      "h 180.0 0.0 0.0\n",
      "\n",
      "0.0\n",
      "v -90.0 90.0 0.0\n",
      "\n",
      "90.0\n",
      "h 0.0 0.0 0.0\n",
      "\n",
      "0.0\n",
      "v -270.0 90.0 0.0\n",
      "\n",
      "90.0\n",
      "h -180.0 0.0 0.0\n",
      "\n",
      "-5.729577951308237\n",
      "v 95.72957795130824 95.72957795130824 -5.729577951308237\n",
      "\n",
      "84.27042204869176\n",
      "h 5.729577951308233 5.729577951308233 -5.729577951308237\n",
      "\n",
      "-5.729577951308212\n",
      "v 275.7295779513082 95.72957795130822 -5.729577951308212\n",
      "\n",
      "84.27042204869176\n",
      "h 185.72957795130824 5.729577951308237 -5.729577951308237\n",
      "\n",
      "5.729577951308237\n",
      "v 84.27042204869176 84.27042204869176 5.729577951308237\n",
      "\n",
      "-84.27042204869176\n",
      "h -5.729577951308233 174.27042204869176 5.729577951308237\n",
      "\n",
      "5.729577951308212\n",
      "v 264.2704220486918 84.27042204869178 5.729577951308212\n",
      "\n",
      "-84.27042204869176\n",
      "h 174.27042204869176 174.27042204869176 5.729577951308237\n",
      "\n",
      "5.729577951308237\n",
      "v -95.72957795130824 84.27042204869176 5.729577951308237\n",
      "\n",
      "-84.27042204869176\n",
      "h -5.729577951308233 174.27042204869176 5.729577951308237\n",
      "\n",
      "5.729577951308212\n",
      "v -275.7295779513082 84.27042204869178 5.729577951308212\n",
      "\n",
      "-84.27042204869176\n",
      "h -185.72957795130824 174.27042204869176 5.729577951308237\n",
      "\n"
     ]
    }
   ],
   "source": [
    "from math import degrees, radians\n",
    "\n",
    "from pdftabextract.geom import pt, vecangle\n",
    "\n",
    "UNITY_VECS = (\n",
    "    pt(0, 1),   # up\n",
    "    pt(1, 0),   # right\n",
    "    pt(0, -1),  # down\n",
    "    pt(-1, 0)   # left\n",
    ")\n",
    "\n",
    "\n",
    "# find rotation / skew\n",
    "pihlf = np.pi / 2\n",
    "pi4th = np.pi / 4\n",
    "\n",
    "lines = (\n",
    "    ((1, pihlf), ),  # up\n",
    "    ((1, 0), ),          # right\n",
    "    ((1, np.pi + pihlf), ),  # down\n",
    "    ((1, np.pi), ),          # left\n",
    "    ((1, -pihlf), ),  # down\n",
    "    ((1, -0), ),          # right\n",
    "    ((1, -(np.pi + pihlf)), ),  # up\n",
    "    ((1, -np.pi), ),          # right\n",
    "    ((1, pihlf + 0.1), ),  # up\n",
    "    ((1, 0.1), ),          # right\n",
    "    ((1, np.pi + pihlf + 0.1), ),  # down\n",
    "    ((1, np.pi + 0.1), ),          # left\n",
    "    ((1, pihlf - 0.1), ),  # up\n",
    "    ((1, -0.1), ),          # right\n",
    "    ((1, np.pi + pihlf - 0.1), ),  # down\n",
    "    ((1, np.pi - 0.1), ),          # left\n",
    "    ((1, -(pihlf + 0.1)), ),  # down\n",
    "    ((1, -0.1), ),          # right\n",
    "    ((1, -(np.pi + pihlf + 0.1)), ),  # up\n",
    "    ((1, -(np.pi + 0.1)), ),          # left\n",
    ")\n",
    "\n",
    "for l in lines:\n",
    "    _, theta = l[0]\n",
    "    \n",
    "    if theta >= np.pi:\n",
    "        theta_norm = theta - np.pi\n",
    "    elif theta < -np.pi:\n",
    "        theta_norm = theta + 2 * np.pi\n",
    "    elif theta < 0:\n",
    "        theta_norm = theta + np.pi\n",
    "    else:\n",
    "        theta_norm = theta\n",
    "    \n",
    "    assert 0 <= theta_norm < np.pi\n",
    "    \n",
    "    vert_deviation = pihlf - theta_norm\n",
    "    print(degrees(vert_deviation))\n",
    "        \n",
    "    if abs(vert_deviation) > pi4th:  # horizontal\n",
    "        direction = 'h'\n",
    "        deviation = vert_deviation - pihlf\n",
    "        if deviation < -pihlf:\n",
    "            deviation += np.pi\n",
    "    else:\n",
    "        direction = 'v'\n",
    "        deviation = vert_deviation\n",
    "    \n",
    "    print(direction, degrees(theta), degrees(theta_norm), degrees(deviation))\n",
    "    print()\n",
    "    \n",
    "    assert -pi4th <= deviation <= pi4th\n"
   ]
  },
  {
   "cell_type": "code",
   "execution_count": null,
   "metadata": {
    "collapsed": true
   },
   "outputs": [],
   "source": []
  }
 ],
 "metadata": {
  "kernelspec": {
   "display_name": "Python 3",
   "language": "python",
   "name": "python3"
  },
  "language_info": {
   "codemirror_mode": {
    "name": "ipython",
    "version": 3
   },
   "file_extension": ".py",
   "mimetype": "text/x-python",
   "name": "python",
   "nbconvert_exporter": "python",
   "pygments_lexer": "ipython3",
   "version": "3.5.2"
  }
 },
 "nbformat": 4,
 "nbformat_minor": 2
}
