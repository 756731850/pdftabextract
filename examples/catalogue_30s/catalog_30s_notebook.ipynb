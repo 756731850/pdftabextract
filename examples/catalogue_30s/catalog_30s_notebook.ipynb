{
 "cells": [
  {
   "cell_type": "markdown",
   "metadata": {
    "deletable": true,
    "editable": true
   },
   "source": [
    "# Data Mining OCR PDFs - Using *pdftabextract* to liberate tabular data from scanned documents\n",
    "\n",
    "This is an example on how to use *pdftabextract* for data mining in scanned and OCR-processed documents with rather complex tables and/or few \"optical features\" like column or row borders, which often make it impossible to use like tools like [Tabula](http://tabula.technology/).\n",
    "\n",
    "In this example, only a table from a single page will extracted for demonstration purposes. For a full example that covers several pages, see the `catalog_30s.py` script. There are also some more demonstrations in the `examples` directory.\n",
    "\n",
    "The page that we will process looks like this:\n",
    "\n",
    "![PDF Excerpt p. 3](data/ALA1934_RR-excerpt.pdf-3_1.png)\n",
    "\n",
    "The page has been scanned and processed with Optical Character Recognition (OCR) software like *ABBYY FineReader* or *tesseract* and produced a \"sandwich\" PDF with the scanned document image and the recognized text boxes. Although some software, like FineReader allows to extract tables, this often fails and some more effort in order to liberate the data. We can use *pdftabextract* together with some other other tools for this.\n",
    "\n",
    "We will use a combination of the following tools in order to reach our goal:\n",
    "\n",
    "* the `pdftohtml` command from *poppler-utils* to extract the texts and scanned images from the PDF\n",
    "* *pdf2xml-viewer* to inspect the text boxes and the generated table grid (more on that later)\n",
    "* `pdftabextract` to write a script estimates the positions of columns and rows, generates a table grid and fits the text boxes into this grid in order to extract the tabular data\n",
    "\n",
    "The following steps will be performed and described in detail:\n",
    "\n",
    "1. Extract the scanned page images and generate an XML with the OCR texts of the PDF with `pdftohtml`\n",
    "2. View the text boxes and scanned pages with *pdf2xml-viewer*\n",
    "3. Load the XML describing the pages and text boxes\n",
    "4. Detect clusters of vertical lines using the image processing module of `pdftabextract`\n",
    "5. Find page rotation or skew and fix it\n",
    "6. Get column and line positions\n",
    "7. Create a grid of columns and lines\n",
    "8. Match the text boxes into the grid and hence extract the tabular data in order to export it as Excel and CSV file"
   ]
  },
  {
   "cell_type": "markdown",
   "metadata": {
    "deletable": true,
    "editable": true
   },
   "source": [
    "## 1. Extract the scanned page images and generate an XML with the OCR texts of the PDF with `pdftohtml`\n",
    "\n",
    "The tool `pdftohtml` is part of the software package *[poppler-utils](https://poppler.freedesktop.org/)*. It's available on most Linux distributions and also for OSX via Homebrew or MacPorts. Using the argument `-xml`, it will generate an XML file in *pdf2xml* format with from a sandwich PDF:"
   ]
  },
  {
   "cell_type": "code",
   "execution_count": 9,
   "metadata": {
    "collapsed": false,
    "deletable": true,
    "editable": true
   },
   "outputs": [
    {
     "name": "stdout",
     "output_type": "stream",
     "text": [
      "Page-1\n",
      "Page-2\n",
      "Page-3\n",
      "Page-4\n"
     ]
    }
   ],
   "source": [
    "!cd data/ && pdftohtml -c -hidden -xml ALA1934_RR-excerpt.pdf ALA1934_RR-excerpt.pdf.xml"
   ]
  },
  {
   "cell_type": "code",
   "execution_count": 10,
   "metadata": {
    "collapsed": false,
    "deletable": true,
    "editable": true,
    "scrolled": true
   },
   "outputs": [
    {
     "name": "stdout",
     "output_type": "stream",
     "text": [
      "ALA1934_RR-excerpt.pdf\r\n",
      "ALA1934_RR-excerpt.pdf-1_1.png\r\n",
      "ALA1934_RR-excerpt.pdf-2_1.png\r\n",
      "ALA1934_RR-excerpt.pdf-3_1.png\r\n",
      "ALA1934_RR-excerpt.pdf-4_1.png\r\n",
      "ALA1934_RR-excerpt.pdf.xml\r\n"
     ]
    }
   ],
   "source": [
    "!ls -1 data/"
   ]
  },
  {
   "cell_type": "code",
   "execution_count": 11,
   "metadata": {
    "collapsed": false,
    "deletable": true,
    "editable": true
   },
   "outputs": [
    {
     "name": "stdout",
     "output_type": "stream",
     "text": [
      "<?xml version=\"1.0\" encoding=\"UTF-8\"?>\r\n",
      "<!DOCTYPE pdf2xml SYSTEM \"pdf2xml.dtd\">\r\n",
      "\r\n",
      "<pdf2xml producer=\"poppler\" version=\"0.41.0\">\r\n",
      "<page number=\"1\" position=\"absolute\" top=\"0\" left=\"0\" height=\"1261\" width=\"892\">\r\n",
      "\t<fontspec id=\"0\" size=\"23\" family=\"Times\" color=\"#000000\"/>\r\n",
      "\t<fontspec id=\"1\" size=\"41\" family=\"Times\" color=\"#000000\"/>\r\n",
      "\t<fontspec id=\"2\" size=\"20\" family=\"Times\" color=\"#000000\"/>\r\n",
      "\t<fontspec id=\"3\" size=\"22\" family=\"Times\" color=\"#000000\"/>\r\n",
      "\t<fontspec id=\"4\" size=\"7\" family=\"Times\" color=\"#000000\"/>\r\n",
      "\t<fontspec id=\"5\" size=\"7\" family=\"Times\" color=\"#000000\"/>\r\n",
      "\t<fontspec id=\"6\" size=\"13\" family=\"Times\" color=\"#000000\"/>\r\n",
      "\t<fontspec id=\"7\" size=\"5\" family=\"Times\" color=\"#000000\"/>\r\n",
      "\t<fontspec id=\"8\" size=\"13\" family=\"Times\" color=\"#000000\"/>\r\n",
      "\t<fontspec id=\"9\" size=\"4\" family=\"Times\" color=\"#000000\"/>\r\n",
      "\t<fontspec id=\"10\" size=\"4\" family=\"Times\" color=\"#000000\"/>\r\n",
      "\t<fontspec id=\"11\" size=\"5\" family=\"Times\" color=\"#000000\"/>\r\n",
      "\t<fontspec id=\"12\" size=\"7\" family=\"Times\" color=\"#000000\"/>\r\n",
      "\t<fontspec id=\"13\" size=\"7\" family=\"Times\" color=\"#000000\"/>\r\n",
      "\t<fontspec id=\"14\" size=\"16\" family=\"Times\" color=\"#000000\"/>\r\n",
      "\t<fontspec id=\"15\" size=\"11\" family=\"Times\" color=\"#000000\"/>\r\n",
      "<image top=\"0\" left=\"0\" width=\"893\" height=\"1262\" src=\"ALA1934_RR-excerpt.pdf-1_1.png\"/>\r\n",
      "<text top=\"43\" left=\"545\" width=\"14\" height=\"26\" font=\"0\">\\</text>\r\n",
      "<text top=\"102\" left=\"298\" width=\"353\" height=\"41\" font=\"1\"><b>Deutsches Reich</b></text>\r\n",
      "<text top=\"175\" left=\"363\" width=\"234\" height=\"21\" font=\"2\">Politische  Zeitungen </text>\r\n",
      "<text top=\"209\" left=\"436\" width=\"83\" height=\"22\" font=\"3\"><b>Anhalt</b></text>\r\n",
      "<text top=\"248\" left=\"499\" width=\"8\" height=\"8\" font=\"4\">'S</text>\r\n",
      "<text top=\"256\" left=\"490\" width=\"16\" height=\"8\" font=\"4\">„   s</text>\r\n",
      "<text top=\"262\" left=\"492\" width=\"15\" height=\"8\" font=\"4\">Ö  rj</text>\r\n",
      "<text top=\"251\" left=\"520\" width=\"85\" height=\"8\" font=\"4\">A n z e i g e n t e i l</text>\r\n"
     ]
    }
   ],
   "source": [
    "!head -n 30 data/ALA1934_RR-excerpt.pdf.xml"
   ]
  },
  {
   "cell_type": "markdown",
   "metadata": {
    "deletable": true,
    "editable": true
   },
   "source": [
    "We generated an XML which consists of several `<page>` elements, containing an `<image>` (the \"background\" image, i.e. the scanned page) and several text boxes (`<text>`) with coordinates and the respective text box value. The images themselves have also been extracted from the PDF."
   ]
  },
  {
   "cell_type": "markdown",
   "metadata": {
    "deletable": true,
    "editable": true
   },
   "source": [
    "## 2. View the text boxes and scanned pages with *pdf2xml-viewer*\n",
    "\n",
    "You can download the [pdf2xml-viewer from its github page](https://github.com/WZBSocialScienceCenter/pdf2xml-viewer). It basically consists of an HTML page that allows you to inspect an XML file in pdf2xml format in your browser. A copy of it resides also in the directory of this example.\n",
    "\n",
    "Change to the directory where pdf2xml-viewer resides (where its *index.html* or *pdf2xml-viewer.html* file is). You should also copy the extracted XML file and images to this location. Now let's start up a minimal local webserver. This can be done very easily with Python:\n",
    "\n",
    "With Python 2.x: `python -m SimpleHTTPServer 8080`\n",
    "\n",
    "Or with Python 3: `python3 -m http.server 8080 --bind 127.0.0.1`\n",
    "\n",
    "Now you open your browser and go to the adress http://127.0.0.1:8080. The viewer shows up and you can now enter the\n",
    "file name of your file to load (it must be relative to the directory in which pdf2xml-viewer resides)."
   ]
  },
  {
   "cell_type": "code",
   "execution_count": null,
   "metadata": {
    "collapsed": false,
    "deletable": true,
    "editable": true,
    "scrolled": true
   },
   "outputs": [
    {
     "name": "stdout",
     "output_type": "stream",
     "text": [
      "Serving HTTP on 127.0.0.1 port 8080 ...\r\n"
     ]
    }
   ],
   "source": [
    "!python3 -m http.server 8080 --bind 127.0.0.1"
   ]
  },
  {
   "cell_type": "markdown",
   "metadata": {
    "deletable": true,
    "editable": true
   },
   "source": [
    "When you execute the above line you can start up pdf2xml-viewer by visiting http://127.0.0.1:8080/pdf2xml-viewer.html. **However, please note that this will prevent further code execution in this Notebook as long as the minimal webserver is running.** So it's generally a better idea to execute this in a separate Terminal window."
   ]
  },
  {
   "cell_type": "markdown",
   "metadata": {
    "collapsed": true,
    "deletable": true,
    "editable": true
   },
   "source": [
    "In pdf2xml-viewer you will now be able to browse through the pages. In the background, you can see the scanned image page and on top of that are the text boxes that were detected during OCR:\n",
    "\n",
    "![pdf2xml-viewer p.3 displayed](nb_images/pdf2xml-viewer-page.png)"
   ]
  },
  {
   "cell_type": "markdown",
   "metadata": {},
   "source": [
    "## 3. Load the XML describing the pages and text boxes\n",
    "\n",
    "We can now start to use `pdftabextract` in Python code in order to load the XML file. Let's define some constants first that we will need throughout the script."
   ]
  },
  {
   "cell_type": "code",
   "execution_count": 3,
   "metadata": {
    "collapsed": true
   },
   "outputs": [],
   "source": [
    "DATAPATH = 'data/'\n",
    "OUTPUTPATH = 'generated_output/'\n",
    "INPUT_XML = 'ALA1934_RR-excerpt.pdf.xml'"
   ]
  },
  {
   "cell_type": "markdown",
   "metadata": {},
   "source": [
    "Now we can load the the XML, parse it and have a look at the third page (the page from which we later want to extract the data)."
   ]
  },
  {
   "cell_type": "code",
   "execution_count": 4,
   "metadata": {
    "collapsed": true
   },
   "outputs": [],
   "source": [
    "import os\n",
    "from pdftabextract.common import read_xml, parse_pages\n",
    "\n",
    "# Load the XML that was generated with pdftohtml\n",
    "xmltree, xmlroot = read_xml(os.path.join(DATAPATH, INPUT_XML))\n",
    "\n",
    "# parse it and generate a dict of pages\n",
    "pages = parse_pages(xmlroot)"
   ]
  },
  {
   "cell_type": "code",
   "execution_count": 7,
   "metadata": {
    "collapsed": false
   },
   "outputs": [
    {
     "data": {
      "text/plain": [
       "dict_keys(['xmlnode', 'number', 'height', 'image', 'width', 'texts'])"
      ]
     },
     "execution_count": 7,
     "metadata": {},
     "output_type": "execute_result"
    }
   ],
   "source": [
    "pages[3].keys()"
   ]
  },
  {
   "cell_type": "markdown",
   "metadata": {},
   "source": [
    "Each page consists of an *xmlnode* which points to the original XML page element, a page number, the page dimensions, an image (the scanned page) and the text boxes:"
   ]
  },
  {
   "cell_type": "code",
   "execution_count": 11,
   "metadata": {
    "collapsed": false
   },
   "outputs": [
    {
     "name": "stdout",
     "output_type": "stream",
     "text": [
      "number 3\n",
      "width 892\n",
      "height 1261\n",
      "image ALA1934_RR-excerpt.pdf-3_1.png\n",
      "the first three text boxes:\n",
      "[{'bottom': 107.0,\n",
      "  'bottomleft': array([ 359.,  107.]),\n",
      "  'bottomright': array([ 404.,  107.]),\n",
      "  'height': 14,\n",
      "  'left': 359.0,\n",
      "  'right': 404.0,\n",
      "  'top': 93.0,\n",
      "  'topleft': array([ 359.,   93.]),\n",
      "  'topright': array([ 404.,   93.]),\n",
      "  'value': 'Baden',\n",
      "  'width': 45,\n",
      "  'xmlnode': <Element 'text' at 0x7fb36590e9a8>},\n",
      " {'bottom': 104.0,\n",
      "  'bottomleft': array([ 737.,  104.]),\n",
      "  'bottomright': array([ 745.,  104.]),\n",
      "  'height': 13,\n",
      "  'left': 737.0,\n",
      "  'right': 745.0,\n",
      "  'top': 91.0,\n",
      "  'topleft': array([ 737.,   91.]),\n",
      "  'topright': array([ 745.,   91.]),\n",
      "  'value': '3',\n",
      "  'width': 8,\n",
      "  'xmlnode': <Element 'text' at 0x7fb36590e9f8>},\n",
      " {'bottom': 144.0,\n",
      "  'bottomleft': array([  58.,  144.]),\n",
      "  'bottomright': array([  76.,  144.]),\n",
      "  'height': 8,\n",
      "  'left': 58.0,\n",
      "  'right': 76.0,\n",
      "  'top': 136.0,\n",
      "  'topleft': array([  58.,  136.]),\n",
      "  'topright': array([  76.,  136.]),\n",
      "  'value': 'Ein\\xad',\n",
      "  'width': 18,\n",
      "  'xmlnode': <Element 'text' at 0x7fb36590ea98>}]\n"
     ]
    }
   ],
   "source": [
    "from pprint import pprint\n",
    "\n",
    "p_num = 3\n",
    "p = pages[p_num]\n",
    "\n",
    "print('number', p['number'])\n",
    "print('width', p['width'])\n",
    "print('height', p['height'])\n",
    "print('image', p['image'])\n",
    "print('the first three text boxes:')\n",
    "pprint(p['texts'][:3])"
   ]
  },
  {
   "cell_type": "markdown",
   "metadata": {},
   "source": [
    "The text boxes in `p['texts']` contain the coordinates and dimensions of each text box as well as the content (`value`) and a reference to the original XML node."
   ]
  }
 ],
 "metadata": {
  "kernelspec": {
   "display_name": "Python 3",
   "language": "python",
   "name": "python3"
  },
  "language_info": {
   "codemirror_mode": {
    "name": "ipython",
    "version": 3
   },
   "file_extension": ".py",
   "mimetype": "text/x-python",
   "name": "python",
   "nbconvert_exporter": "python",
   "pygments_lexer": "ipython3",
   "version": "3.5.2"
  }
 },
 "nbformat": 4,
 "nbformat_minor": 2
}
